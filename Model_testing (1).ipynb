{
 "cells": [
  {
   "cell_type": "code",
   "execution_count": 7,
   "id": "601ddd44-da9a-4c78-8653-54f08c4cf47c",
   "metadata": {},
   "outputs": [
    {
     "name": "stderr",
     "output_type": "stream",
     "text": [
      "WARNING:absl:Compiled the loaded model, but the compiled metrics have yet to be built. `model.compile_metrics` will be empty until you train or evaluate the model.\n"
     ]
    },
    {
     "name": "stdout",
     "output_type": "stream",
     "text": [
      "\u001b[1m1/1\u001b[0m \u001b[32m━━━━━━━━━━━━━━━━━━━━\u001b[0m\u001b[37m\u001b[0m \u001b[1m6s\u001b[0m 6s/step\n",
      "Predicted Class: bird eye spot in tea\n",
      "Confidence Score: 0.42\n"
     ]
    }
   ],
   "source": [
    "from PIL import Image\n",
    "import tensorflow as tf\n",
    "import numpy as np\n",
    "import pandas as pd\n",
    "model = tf.keras.models.load_model(\"tea_EfficientNetB3_model.h5\")\n",
    "\n",
    "img=\"bird_eye_spot_in_tea47.jpg\"\n",
    "\n",
    "def preprocess_image(image_path, target_size=(224, 224)):\n",
    "  \"\"\"Preprocesses an image for EfficientNetB3 input.\"\"\"\n",
    "\n",
    "  img = Image.open(image_path).convert(\"RGB\")  # Ensure RGB format\n",
    "  resized = img.resize(target_size)\n",
    "\n",
    "  # EfficientNetB3 preprocessing is included in the model itself\n",
    "  normalized = np.array(resized) / 255.0  # Normalize pixel values to [0, 1]\n",
    "\n",
    "  # No need to call a separate preprocessing function from TensorFlow\n",
    "  # EfficientNetB3 models handle normalization internally during forward pass\n",
    "\n",
    "  normalized = np.expand_dims(normalized, axis=0)  # Add batch dimension\n",
    "\n",
    "  return normalized\n",
    "\n",
    "class_labels=pd.read_csv(\"tea diseases.csv\")\n",
    "class_labels.columns=[\"folder_name\"]\n",
    "class_labels = class_labels[\"folder_name\"].tolist()  # Assuming \"folder_name\" holds class labels\n",
    "\n",
    "preprocessed_image = preprocess_image(img, target_size=(224, 224))\n",
    "\n",
    "# Make the prediction\n",
    "predictions = model.predict(preprocessed_image)\n",
    "\n",
    "# Find the index of the maximum prediction value\n",
    "max_index = np.argmax(predictions)\n",
    "\n",
    "# Get the predicted class label and its confidence score\n",
    "predicted_class = class_labels[max_index]\n",
    "confidence_score = predictions[0][max_index]  # Assuming predictions is a 2D array\n",
    "\n",
    "# Print the most valid class and its confidence score\n",
    "print(f\"Predicted Class: {predicted_class}\")\n",
    "print(f\"Confidence Score: {confidence_score:.2f}\")  \n"
   ]
  },
  {
   "cell_type": "code",
   "execution_count": 8,
   "id": "b35222ca-52bd-41ee-848c-384c34cd6d33",
   "metadata": {},
   "outputs": [
    {
     "name": "stdout",
     "output_type": "stream",
     "text": [
      "\u001b[1m1/1\u001b[0m \u001b[32m━━━━━━━━━━━━━━━━━━━━\u001b[0m\u001b[37m\u001b[0m \u001b[1m0s\u001b[0m 235ms/step\n",
      "[[0.42332268 0.10745741 0.09801573 0.06774373 0.05324318 0.2502173 ]]\n"
     ]
    }
   ],
   "source": [
    "predictions = model.predict(preprocessed_image)\n",
    "print(predictions)"
   ]
  },
  {
   "cell_type": "code",
   "execution_count": null,
   "id": "60841bca-233e-432c-a48d-0804732321a9",
   "metadata": {},
   "outputs": [],
   "source": []
  },
  {
   "cell_type": "code",
   "execution_count": null,
   "id": "451ec84e-b119-42dd-9131-94d6c66eb91a",
   "metadata": {},
   "outputs": [],
   "source": []
  }
 ],
 "metadata": {
  "kernelspec": {
   "display_name": "Python 3 (ipykernel)",
   "language": "python",
   "name": "python3"
  },
  "language_info": {
   "codemirror_mode": {
    "name": "ipython",
    "version": 3
   },
   "file_extension": ".py",
   "mimetype": "text/x-python",
   "name": "python",
   "nbconvert_exporter": "python",
   "pygments_lexer": "ipython3",
   "version": "3.12.3"
  }
 },
 "nbformat": 4,
 "nbformat_minor": 5
}
